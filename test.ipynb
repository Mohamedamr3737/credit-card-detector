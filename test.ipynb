{
 "cells": [
  {
   "cell_type": "code",
   "execution_count": 17,
   "metadata": {},
   "outputs": [
    {
     "name": "stdout",
     "output_type": "stream",
     "text": [
      "152.7555657010068\n",
      "87.06702032763033\n",
      "1684.1032745932814\n",
      "2365.0925071750316\n",
      "313.93799722222224\n",
      "471.04825122059145\n",
      "1238.2320810062108\n",
      "504.81498110176665\n",
      "62.51663881888483\n",
      "94912.23380675654\n",
      "625.7643830997223\n",
      "2714.9994946116685\n",
      "113.64366729987529\n",
      "6.629233319722221\n",
      "2158.939750475178\n",
      "690.5450835275147\n",
      "655.2374565108332\n",
      "5825.503730571903\n",
      "112641.84035053477\n",
      "01 - Straightforward.jpg: Not High Frequency\n",
      "02 - You can do it.jpg: Not High Frequency\n",
      "03 - Should be okay.jpg: Not High Frequency\n",
      "04 - Still ok, I hope.jpg: Not High Frequency\n",
      "05 - Looks cool, hope it runs cool too.jpg: Not High Frequency\n",
      "06 - Hatetlewe7 hatlewe7.jpg: Not High Frequency\n",
      "07 - Hatet3eweg hat3eweg.jpg: Not High Frequency\n",
      "08 - Ew3a soba3ak ya3am.jpg: Not High Frequency\n",
      "09 - El spero spathis we23et 3aaaa.jpg: Not High Frequency\n",
      "10 - Mal7 w Felfel.jpg: High Frequency\n",
      "11 - Ya setty ew3i.jpg: Not High Frequency\n",
      "12 - weewooweewoo.jpg: High Frequency\n",
      "13 - Matozbot el camera ya Kimo.jpg: Not High Frequency\n",
      "14 - 2el noor 2ata3.jpg: Not High Frequency\n",
      "15 - Compresso Espresso.jpg: Not High Frequency\n",
      "16 - Sheel el kart yastaaaa.jpg: Not High Frequency\n",
      "credit-card.jpg: Not High Frequency\n",
      "ocr_a_reference-300x47.png: High Frequency\n",
      "sp_img_gray_noise_heavy.png: High Frequency\n"
     ]
    }
   ],
   "source": [
    "import cv2\n",
    "import numpy as np\n",
    "import os\n",
    "\n",
    "def is_high_frequency(image_path, threshold):\n",
    "    # Read the image in grayscale\n",
    "    image = cv2.imread(image_path, cv2.IMREAD_GRAYSCALE)\n",
    "    \n",
    "    # Apply the Laplacian operator to detect edges (high frequency)\n",
    "    laplacian = cv2.Laplacian(image, cv2.CV_64F)\n",
    "    \n",
    "    # Compute the variance of the Laplacian\n",
    "    variance = laplacian.var()\n",
    "    print(variance)\n",
    "    \n",
    "    # Check if the variance exceeds the threshold for high frequency\n",
    "    return variance > threshold\n",
    "\n",
    "def test_images_for_high_frequency(directory):\n",
    "    results = {}\n",
    "    \n",
    "    # Iterate over all files in the directory\n",
    "    for filename in os.listdir(directory):\n",
    "        if filename.endswith(('.png', '.jpg', '.jpeg', '.bmp', '.tiff')):  # Add more image extensions if needed\n",
    "            image_path = os.path.join(directory, filename)\n",
    "            results[filename] = is_high_frequency(image_path, 2600)\n",
    "    \n",
    "    return results\n",
    "\n",
    "# Example usage\n",
    "directory = \"../drive-download-20240804T174950Z-001\"\n",
    "threshold_value = 100  # You can adjust this value based on your needs\n",
    "results = test_images_for_high_frequency(directory)\n",
    "\n",
    "for image_name, is_high_freq in results.items():\n",
    "    print(f\"{image_name}: {'High Frequency' if is_high_freq else 'Not High Frequency'}\")\n"
   ]
  },
  {
   "cell_type": "code",
   "execution_count": null,
   "metadata": {},
   "outputs": [],
   "source": []
  }
 ],
 "metadata": {
  "kernelspec": {
   "display_name": "Python 3",
   "language": "python",
   "name": "python3"
  },
  "language_info": {
   "codemirror_mode": {
    "name": "ipython",
    "version": 3
   },
   "file_extension": ".py",
   "mimetype": "text/x-python",
   "name": "python",
   "nbconvert_exporter": "python",
   "pygments_lexer": "ipython3",
   "version": "3.12.1"
  }
 },
 "nbformat": 4,
 "nbformat_minor": 2
}
