{
 "cells": [
  {
   "cell_type": "code",
   "execution_count": 3,
   "metadata": {},
   "outputs": [],
   "source": [
    "import cv2\n",
    "import numpy as np\n",
    "\n",
    "# Load the image (BGR format)\n",
    "srcHSV = cv2.imread('08 - Ew3a soba3ak ya3am.jpg')  # Replace with your image path\n",
    "\n",
    "# Convert BGR to HSV\n",
    "hsv = cv2.cvtColor(srcHSV, cv2.COLOR_BGR2HSV)\n",
    "\n",
    "# Define the HSV ranges for light and dark skin tones\n",
    "# Adjust these ranges based on your specific needs\n",
    "# Light skin tone range\n",
    "lower_light_skin = np.array([0, 20, 70])\n",
    "upper_light_skin = np.array([20, 255, 255])\n",
    "\n",
    "# Dark skin tone range\n",
    "lower_dark_skin = np.array([0, 20, 50])\n",
    "upper_dark_skin = np.array([20, 150, 200])\n",
    "\n",
    "# Apply the inRange function for light skin\n",
    "mask_light_skin = cv2.inRange(hsv, lower_light_skin, upper_light_skin)\n",
    "\n",
    "# Apply the inRange function for dark skin\n",
    "mask_dark_skin = cv2.inRange(hsv, lower_dark_skin, upper_dark_skin)\n",
    "\n",
    "# Combine the masks if needed\n",
    "combined_mask = cv2.bitwise_or(mask_light_skin, mask_dark_skin)\n",
    "\n",
    "# Optional: Save or display the result\n",
    "cv2.imshow('Mask Light Skin', mask_light_skin)\n",
    "cv2.imshow('Mask Dark Skin', mask_dark_skin)\n",
    "cv2.imshow('Combined Mask', combined_mask)\n",
    "cv2.waitKey(0)\n",
    "cv2.destroyAllWindows()\n"
   ]
  }
 ],
 "metadata": {
  "kernelspec": {
   "display_name": "Python 3",
   "language": "python",
   "name": "python3"
  },
  "language_info": {
   "codemirror_mode": {
    "name": "ipython",
    "version": 3
   },
   "file_extension": ".py",
   "mimetype": "text/x-python",
   "name": "python",
   "nbconvert_exporter": "python",
   "pygments_lexer": "ipython3",
   "version": "3.12.1"
  }
 },
 "nbformat": 4,
 "nbformat_minor": 2
}
